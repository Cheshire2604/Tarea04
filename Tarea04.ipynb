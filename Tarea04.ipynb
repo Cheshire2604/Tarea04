{
 "cells": [
  {
   "cell_type": "code",
   "execution_count": 1,
   "metadata": {},
   "outputs": [],
   "source": [
    "# Primero importemos los paquetes necesarios\n",
    "\n",
    "%matplotlib inline\n",
    "%config InlineBackend.figure_format = 'retina'\n",
    "\n",
    "import numpy as np\n",
    "import torch\n",
    "from torch import nn\n",
    "\n",
    "import helper\n",
    "\n",
    "import matplotlib.pyplot as plt\n",
    "from torchvision import datasets, transforms"
   ]
  },
  {
   "cell_type": "code",
   "execution_count": 2,
   "metadata": {},
   "outputs": [
    {
     "name": "stdout",
     "output_type": "stream",
     "text": [
      "Downloading http://fashion-mnist.s3-website.eu-central-1.amazonaws.com/train-images-idx3-ubyte.gz\n",
      "Downloading http://fashion-mnist.s3-website.eu-central-1.amazonaws.com/train-labels-idx1-ubyte.gz\n",
      "Downloading http://fashion-mnist.s3-website.eu-central-1.amazonaws.com/t10k-images-idx3-ubyte.gz\n",
      "Downloading http://fashion-mnist.s3-website.eu-central-1.amazonaws.com/t10k-labels-idx1-ubyte.gz\n",
      "Processing...\n",
      "Done!\n"
     ]
    }
   ],
   "source": [
    "# Generaramos una transformación para normalizar el conjunto de datos\n",
    "transform = transforms.Compose([transforms.Resize(28),\n",
    "                               transforms.CenterCrop(28),transforms.ToTensor(),\n",
    "                              transforms.Normalize((0.5, 0.5, 0.5), (0.5, 0.5, 0.5)),\n",
    "                             ])\n",
    "# Descargamos el conjunto de datos de entrenamiento\n",
    "trainset = datasets.FashionMNIST('Fashion/', download=True, train=True, transform=transform)\n",
    "# Cargamos el conjunto\n",
    "trainloader = torch.utils.data.DataLoader(trainset, batch_size=64, shuffle=True)\n",
    "\n",
    "# Descargamos y cargamos el conjunto de prueba\n",
    "testset = datasets.FashionMNIST('Fashion/', download=True, train=False, transform=transform)\n",
    "testloader = torch.utils.data.DataLoader(testset, batch_size=64, shuffle=True)"
   ]
  },
  {
   "cell_type": "code",
   "execution_count": 3,
   "metadata": {},
   "outputs": [],
   "source": [
    "# Ordenamos los datos para tener parejas de imagenes con su respectiva clase\n",
    "\n",
    "# Los datos se encuentran en trainloader asi que generamos un iterador para extraerlos uno por uno\n",
    "dataiter = iter(trainloader)\n",
    "images, labels = dataiter.next()"
   ]
  },
  {
   "cell_type": "code",
   "execution_count": 4,
   "metadata": {},
   "outputs": [
    {
     "data": {
      "text/plain": [
       "torch.Size([1, 28, 28])"
      ]
     },
     "execution_count": 4,
     "metadata": {},
     "output_type": "execute_result"
    },
    {
     "data": {
      "image/png": "[encoded data removed]",
      "text/plain": [
       "<matplotlib.figure.Figure at 0x26bd5abc630>"
      ]
     },
     "metadata": {
      "image/png": {
       "height": 250,
       "width": 253
      }
     },
     "output_type": "display_data"
    }
   ],
   "source": [
    "plt.imshow(images[1].numpy().squeeze(), cmap='Greys_r');\n",
    "images[1].size()"
   ]
  },
  {
   "cell_type": "code",
   "execution_count": 5,
   "metadata": {},
   "outputs": [
    {
     "name": "stdout",
     "output_type": "stream",
     "text": [
      "Sequential(\n",
      "  (0): Linear(in_features=784, out_features=128, bias=True)\n",
      "  (1): ReLU()\n",
      "  (2): Linear(in_features=128, out_features=64, bias=True)\n",
      "  (3): ReLU()\n",
      "  (4): Linear(in_features=64, out_features=10, bias=True)\n",
      "  (5): Softmax()\n",
      ")\n"
     ]
    },
    {
     "data": {
      "image/png": "[encoded data removed]",
      "text/plain": [
       "<matplotlib.figure.Figure at 0x26bdc13a5f8>"
      ]
     },
     "metadata": {
      "image/png": {
       "height": 224,
       "width": 423
      }
     },
     "output_type": "display_data"
    }
   ],
   "source": [
    "# Hyperparameters for our network\n",
    "input_size = 784 #caracteristicas\n",
    "hidden_sizes = [128, 64] #capas,neuronas\n",
    "output_size = 10 #clases\n",
    "\n",
    "# Build a feed-forward network\n",
    "                                    # 784     #128\n",
    "model = nn.Sequential(nn.Linear(input_size, hidden_sizes[0]),\n",
    "                      nn.ReLU(),\n",
    "                      nn.Linear(hidden_sizes[0], hidden_sizes[1]),\n",
    "                      nn.ReLU(),\n",
    "                      nn.Linear(hidden_sizes[1], output_size),\n",
    "                      nn.Softmax(dim=1))\n",
    "print(model)\n",
    "\n",
    "# Forward pass through the network and display output\n",
    "images, labels = next(iter(trainloader))\n",
    "images.resize_(images.shape[0], 1, 784)\n",
    "ps = model.forward(images[0,:])\n",
    "helper.view_classify(images[0].view(1, 28, 28), ps)"
   ]
  },
  {
   "cell_type": "code",
   "execution_count": 6,
   "metadata": {},
   "outputs": [],
   "source": [
    "# importamos paquetes de pytorch\n",
    "\n",
    "from torch import nn\n",
    "from torch import optim\n",
    "import torch.nn.functional as F"
   ]
  },
  {
   "cell_type": "code",
   "execution_count": 17,
   "metadata": {},
   "outputs": [
    {
     "data": {
      "text/plain": [
       "RedNeuronal(\n",
       "  (fc1): Linear(in_features=784, out_features=128, bias=True)\n",
       "  (fc2): Linear(in_features=128, out_features=64, bias=True)\n",
       "  (fc3): Linear(in_features=64, out_features=10, bias=True)\n",
       ")"
      ]
     },
     "execution_count": 17,
     "metadata": {},
     "output_type": "execute_result"
    }
   ],
   "source": [
    "class RedNeuronal(nn.Module):\n",
    "    def __init__(self):\n",
    "        super().__init__()\n",
    "        # Definir las capas. Cada una con 128, 64 y 10 unidades respectivamente\n",
    "        self.fc1 = nn.Linear(784, 128)\n",
    "        self.fc2 = nn.Linear(128, 64)\n",
    "        # Capa de salida con 10 units (una para cada dígito)\n",
    "        self.fc3 = nn.Linear(64, 10)\n",
    "        \n",
    "    def forward(self, x):\n",
    "        ''' Pase frontal de la red, regresamos las probabilidades '''\n",
    "        \n",
    "        x = self.fc1(x)\n",
    "        x = F.relu(x)\n",
    "        x = self.fc2(x)\n",
    "        x = F.relu(x)\n",
    "        x = self.fc3(x)\n",
    "        x = F.softmax(x, dim=1)\n",
    "        \n",
    "        return x\n",
    "\n",
    "model = RedNeuronal()\n",
    "model"
   ]
  },
  {
   "cell_type": "code",
   "execution_count": 8,
   "metadata": {},
   "outputs": [
    {
     "name": "stdout",
     "output_type": "stream",
     "text": [
      "Parameter containing:\n",
      "tensor([[-0.0274,  0.0338, -0.0324,  ...,  0.0301, -0.0357, -0.0275],\n",
      "        [ 0.0345, -0.0112, -0.0212,  ...,  0.0238, -0.0016,  0.0030],\n",
      "        [ 0.0098, -0.0117, -0.0234,  ..., -0.0255, -0.0104,  0.0275],\n",
      "        ...,\n",
      "        [ 0.0166, -0.0164, -0.0356,  ..., -0.0351,  0.0058,  0.0106],\n",
      "        [-0.0223, -0.0053, -0.0169,  ...,  0.0118, -0.0170,  0.0338],\n",
      "        [-0.0037,  0.0184,  0.0121,  ...,  0.0010,  0.0008, -0.0342]],\n",
      "       requires_grad=True)\n",
      "Parameter containing:\n",
      "tensor([-0.0189,  0.0054, -0.0065,  0.0084, -0.0172, -0.0280,  0.0208,  0.0170,\n",
      "         0.0157, -0.0173, -0.0069,  0.0156,  0.0016,  0.0258,  0.0149,  0.0005,\n",
      "        -0.0188,  0.0141,  0.0336,  0.0254,  0.0138,  0.0131, -0.0084,  0.0254,\n",
      "        -0.0139, -0.0225,  0.0349,  0.0079,  0.0240, -0.0065, -0.0282, -0.0288,\n",
      "        -0.0314,  0.0054, -0.0065, -0.0239,  0.0090,  0.0126,  0.0234, -0.0188,\n",
      "        -0.0298,  0.0104,  0.0225,  0.0151,  0.0248,  0.0064,  0.0025, -0.0203,\n",
      "        -0.0130,  0.0351,  0.0102,  0.0294,  0.0255,  0.0063, -0.0013,  0.0224,\n",
      "         0.0171,  0.0143,  0.0254, -0.0314, -0.0103, -0.0069,  0.0168, -0.0114,\n",
      "        -0.0008,  0.0268, -0.0261,  0.0334,  0.0326, -0.0303, -0.0319,  0.0084,\n",
      "        -0.0290, -0.0157,  0.0023,  0.0296,  0.0093, -0.0321,  0.0257,  0.0049,\n",
      "         0.0077,  0.0139, -0.0249, -0.0356,  0.0117,  0.0140, -0.0202,  0.0111,\n",
      "         0.0154, -0.0349, -0.0235, -0.0137, -0.0122, -0.0137,  0.0079,  0.0278,\n",
      "         0.0116,  0.0024,  0.0279, -0.0227,  0.0335, -0.0061, -0.0262, -0.0087,\n",
      "         0.0101, -0.0201,  0.0024, -0.0342,  0.0206, -0.0132,  0.0249, -0.0214,\n",
      "        -0.0286,  0.0314,  0.0297,  0.0317,  0.0166,  0.0225, -0.0267, -0.0026,\n",
      "        -0.0039, -0.0088,  0.0125,  0.0300,  0.0336,  0.0306,  0.0255, -0.0057],\n",
      "       requires_grad=True)\n"
     ]
    },
    {
     "data": {
      "text/plain": [
       "tensor([[-0.0002, -0.0056, -0.0158,  ...,  0.0050, -0.0063, -0.0057],\n",
       "        [ 0.0123, -0.0054, -0.0099,  ..., -0.0037, -0.0252, -0.0035],\n",
       "        [ 0.0106,  0.0064, -0.0039,  ...,  0.0116, -0.0009,  0.0060],\n",
       "        ...,\n",
       "        [-0.0031,  0.0055,  0.0043,  ...,  0.0043, -0.0081,  0.0106],\n",
       "        [ 0.0087,  0.0031, -0.0050,  ..., -0.0030,  0.0146, -0.0013],\n",
       "        [-0.0052, -0.0094, -0.0161,  ..., -0.0091, -0.0045,  0.0147]])"
      ]
     },
     "execution_count": 8,
     "metadata": {},
     "output_type": "execute_result"
    }
   ],
   "source": [
    "#Inicializamos pesos y sesgos\n",
    "\n",
    "pri neuronal dando nt(model.fc1.weight)\n",
    "print(model.fc1.bias)\n",
    "# Colocamos ceros\n",
    "model.fc1.bias.data.fill_(0)\n",
    "# muestreamos desde una distribución normal con media cero y desv. estandar = 0.01\n",
    "model.fc1.weight.data.normal_(std=0.01) #tensor que contiene los pesos\n",
    "#Pase frontal"
   ]
  },
  {
   "cell_type": "code",
   "execution_count": 9,
   "metadata": {},
   "outputs": [],
   "source": [
    "#Pase frontal, convertir la imagen a un tensor y pasarla a través de la red.\n",
    "# Obtengamos el siguiente valor \n",
    "#dataiter = iter(trainloader)\n",
    "images, labels = dataiter.next()\n",
    "\n",
    "# Reestructuremos la imagen a un vector de una dimensión, hay quie le llama a esta operación \"aplanado\".\n",
    "# La nueva forma será (batch size, color channels, image pixels) \n",
    "images.resize_(64, 1, 784)\n",
    "# alternativa: images.resize_(images.shape[0], 1, 784) to not automatically get batch size\n",
    "\n",
    "# Pase frontal de la red\n",
    "img_idx = 0\n",
    "ps = model.forward(images[img_idx,:])"
   ]
  },
  {
   "cell_type": "code",
   "execution_count": 10,
   "metadata": {},
   "outputs": [
    {
     "data": {
      "image/png": "[encoded data removed]",
      "text/plain": [
       "<matplotlib.figure.Figure at 0x26bdc1f3240>"
      ]
     },
     "metadata": {
      "image/png": {
       "height": 224,
       "width": 423
      }
     },
     "output_type": "display_data"
    }
   ],
   "source": [
    "img = images[img_idx]\n",
    "helper.view_classify(img.view(1, 28, 28), ps)"
   ]
  },
  {
   "cell_type": "code",
   "execution_count": 11,
   "metadata": {},
   "outputs": [],
   "source": [
    "#Entrenamiento de una RN\n",
    "# Cargamos paquetes necesarios\n",
    "\n",
    "%matplotlib inline\n",
    "%config InlineBackend.figure_format = 'retina'\n",
    "\n",
    "import matplotlib.pyplot as plt\n",
    "import numpy as np\n",
    "import time\n",
    "\n",
    "import torch\n",
    "from torch import nn\n",
    "from torch import optim\n",
    "import torch.nn.functional as F\n",
    "from torchvision import datasets, transforms\n",
    "\n",
    "#helper was developed by Udacity under MIT license\n",
    "import helper\n"
   ]
  },
  {
   "cell_type": "code",
   "execution_count": 12,
   "metadata": {},
   "outputs": [],
   "source": [
    "class RedNeuronal(nn.Module):\n",
    "    def __init__(self, input_size, output_size, hidden_layers, drop_p = 0.5):\n",
    "        '''\n",
    "        Construye una red de tamaño arbitrario.\n",
    "        \n",
    "        Parámetros:\n",
    "        input_size: cantidad de elementos en la entrada\n",
    "        output_size: cantidada de elementos en la salida \n",
    "        hidden_layers: cantidad de elementos por cada capa oculta\n",
    "        drop_p: probabilidad de \"tirar\" (drop) una neurona [0,1] \n",
    "        '''\n",
    "        # llamamos al constructor de la superclase\n",
    "        super().__init__()\n",
    "        \n",
    "        # Agregamos la primera capa\n",
    "        self.hidden_layers = nn.ModuleList([nn.Linear(input_size, hidden_layers[0])])\n",
    "        \n",
    "        # agregamos cada una de las capas, zip empareja el número de entradas con las salidas\n",
    "        layer_sizes = zip(hidden_layers[:-1], hidden_layers[1:])\n",
    "        self.hidden_layers.extend([nn.Linear(h1, h2) for h1, h2 in layer_sizes])\n",
    "        \n",
    "        # agregamos la capa de salida final de la red\n",
    "        self.output = nn.Linear(hidden_layers[-1], output_size)\n",
    "        \n",
    "        # Incluimos drop-out en la red\n",
    "        self.dropout = nn.Dropout(p=drop_p)\n",
    "        \n",
    "    def forward(self, x):\n",
    "        ''' Pase hacia adelante en la red, el regreso son las probabilidades en el dominio log '''\n",
    "        \n",
    "        # Hacemos un pase frontal en cada una de las capas ocultas, \n",
    "        # La funció de activación es un RELU combinado con dropout\n",
    "        for linear in self.hidden_layers:\n",
    "            x = F.relu(linear(x))\n",
    "            x = self.dropout(x)\n",
    "        \n",
    "        x = self.output(x)\n",
    "        \n",
    "        return F.log_softmax(x, dim=1)"
   ]
  },
  {
   "cell_type": "code",
   "execution_count": 13,
   "metadata": {},
   "outputs": [],
   "source": [
    "# Create the network, define the criterion and optimizer\n",
    "model = RedNeuronal(784, 10, [516, 256], drop_p=0.5) #red neuronal\n",
    "criterion = nn.NLLLoss() #criterios, error \n",
    "optimizer = optim.Adam(model.parameters(), lr=0.001) #combina el gradiente descendiente estocástico con el momentum."
   ]
  },
  {
   "cell_type": "code",
   "execution_count": 14,
   "metadata": {},
   "outputs": [],
   "source": [
    "# Implementamos una función de evaluación\n",
    "def validation(model, testloader, criterion):\n",
    "    test_loss = 0\n",
    "    accuracy = 0\n",
    "    for images, labels in testloader:\n",
    "\n",
    "        images.resize_(images.shape[0], 784)\n",
    "\n",
    "        output = model.forward(images)\n",
    "        test_loss += criterion(output, labels).item()\n",
    "\n",
    "        ps = torch.exp(output)\n",
    "        equality = (labels.data == ps.max(dim=1)[1])\n",
    "        accuracy += equality.type(torch.FloatTensor).mean()\n",
    "    \n",
    "    return test_loss, accuracy"
   ]
  },
  {
   "cell_type": "code",
   "execution_count": 15,
   "metadata": {},
   "outputs": [
    {
     "name": "stdout",
     "output_type": "stream",
     "text": [
      "Epoch: 2/2..  Training Loss: 0.608..  Test Loss: 0.006..  Test Accuracy: 0.000\n"
     ]
    }
   ],
   "source": [
    "#hiperparámetro\n",
    "epochs = 2\n",
    "steps = 0\n",
    "running_loss = 0\n",
    "print_every = 1000\n",
    "for e in range(epochs):\n",
    "    # Cambiamos a modo entrenamiento\n",
    "    model.train()\n",
    "    for images, labels in trainloader:\n",
    "        steps += 1\n",
    "        \n",
    "        # Aplanar imágenes a un vector de 784 elementos\n",
    "        images.resize_(images.size()[0], 784)\n",
    "        \n",
    "        optimizer.zero_grad()\n",
    "        \n",
    "        output = model.forward(images)\n",
    "        loss = criterion(output, labels)\n",
    "        # Backprogamation\n",
    "        loss.backward()\n",
    "        # Optimización\n",
    "        optimizer.step()\n",
    "        \n",
    "        running_loss += loss.item()\n",
    "        \n",
    "        if steps % print_every == 0:\n",
    "            \n",
    "            # Cambiamos a modo de evaluación\n",
    "            \"\"\"\n",
    "            model.eval()\n",
    "            \n",
    "            # Apagamos los gradientes, reduce memoria y cálculos\n",
    "            with torch.no_grad():\n",
    "                test_loss, accuracy = validation(model, testloader, criterion)\n",
    "            \"\"\"\n",
    "            test_loss = 1\n",
    "            accuracy = 0\n",
    "                \n",
    "            print(\"Epoch: {}/{}.. \".format(e+1, epochs),\n",
    "                  \"Training Loss: {:.3f}.. \".format(running_loss/print_every),\n",
    "                  \"Test Loss: {:.3f}.. \".format(test_loss/len(testloader)),\n",
    "                  \"Test Accuracy: {:.3f}\".format(accuracy/len(testloader)))\n",
    "            \n",
    "            running_loss = 0\n",
    "            \n",
    "            # Make sure training is back on\n",
    "            model.train()"
   ]
  },
  {
   "cell_type": "code",
   "execution_count": 16,
   "metadata": {},
   "outputs": [
    {
     "data": {
      "image/png": "[encoded data removed]",
      "text/plain": [
       "<matplotlib.figure.Figure at 0x26bd2fbfb70>"
      ]
     },
     "metadata": {
      "image/png": {
       "height": 204,
       "width": 423
      }
     },
     "output_type": "display_data"
    }
   ],
   "source": [
    "# Probemos la red!\n",
    "\n",
    "model.eval()\n",
    "\n",
    "dataiter = iter(testloader)\n",
    "images, labels = dataiter.next()\n",
    "img = images[0]\n",
    "# Aplanamos la imagenes\n",
    "img = img.view(1, 784)\n",
    "\n",
    "# Estimamos para cada imagen la probabilidad de pertenencia a una clase (softmax)\n",
    "with torch.no_grad():\n",
    "    output = model.forward(img)\n",
    "\n",
    "ps = torch.exp(output)\n",
    "\n",
    "# Graficamos\n",
    "helper.view_classify(img.view(1, 28, 28), ps, version='Fashion')"
   ]
  }
 ],
 "metadata": {
  "kernelspec": {
   "display_name": "Python 3",
   "language": "python",
   "name": "python3"
  },
  "language_info": {
   "codemirror_mode": {
    "name": "ipython",
    "version": 3
   },
   "file_extension": ".py",
   "mimetype": "text/x-python",
   "name": "python",
   "nbconvert_exporter": "python",
   "pygments_lexer": "ipython3",
   "version": "3.5.2"
  },
  "widgets": {
   "state": {},
   "version": "1.1.2"
  }
 },
 "nbformat": 4,
 "nbformat_minor": 2
}
